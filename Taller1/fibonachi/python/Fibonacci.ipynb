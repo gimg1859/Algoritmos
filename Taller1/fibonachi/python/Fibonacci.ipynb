
{
 "cells": [
  {
   "cell_type": "code",
   "execution_count": 1,
   "metadata": {},
   "outputs": [],
   "source": [
    "import numpy as np\n",
    "import pylab as pl\n",
    "import time\n",
    "import matplotlib as plt"
   ]
  },
