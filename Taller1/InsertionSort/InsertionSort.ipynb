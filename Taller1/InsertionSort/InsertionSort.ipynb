
{
 "cells": [
  {
   "cell_type": "markdown",
   "metadata": {},
   "source": [
    "# Insertion Sort\n",
    "## Sort function"
   ]
  },
  {
   "cell_type": "code",
   "execution_count": 2,
   "metadata": {
    "collapsed": true
   },
   "outputs": [],
   "source": [
    "import numpy as np\n",
    "import time\n",
    "import itertools\n",
    "import matplotlib.pyplot as plt"
   ]
  },
  {
   "cell_type": "code",
   "execution_count": 3,
   "metadata": {
    "collapsed": true
   },
   "outputs": [],
   "source": [
    "def in_sort(A,aLen):\n",
    "    for i in range(1,aLen):\n",
    "        temp = A[i];\n",
    "        j=i-1;\n",
    "        while(temp<A[j] and j>=0):\n",
    "            A[j+1]=A[j]\n",
    "            j-=1\n",
    "        A[j+1]=temp\n",
    "    return A\n",
    "\n",
    "#Modified version, returns steps and comparisons\n",
    "def in_sort_Mod(A,aLen):\n",
    "    #init counters\n",
    "    steps,comps,swaps = 0,0,0\n",
    "    t=np.zeros(aLen,dtype=int)\n",
    "    i = 1\n",
    "    while(i<aLen):\n",
    "        temp = A[i]\n",
    "        j=i-1\n",
    "        while(True):\n",
    "            comps+=1\n",
    "            t[i]+=1\n",
    "            if(j<0):break\n",
    "            if(temp>=A[j]):break\n",
    "            swaps+=1\n",
    "            A[j+1]=A[j]\n",
    "            j-=1;steps+=3\n",
    "        A[j+1]=temp;steps+=1;\n",
    "        i+=1;steps+=4\n",
    "    steps+=1\n",
    "    return A,steps,comps,swaps,t"
   ]
  },
  {
   "cell_type": "markdown",
   "metadata": {},
   "source": [
    "Here we test the function:"
   ]
  },
  {
   "cell_type": "code",
   "execution_count": 4,
   "metadata": {},
   "outputs": [
    {
     "name": "stdout",
     "output_type": "stream",
     "text": [
      "A >  [0 5 1 3 4 7 9]\n",
      "ordered A >  [0 1 3 4 5 7 9]\n"
     ]
    }
   ],
   "source": [
    "A = np.array([0,5,1,3,4,7,9])\n",
    "print('A > ',A)\n",
    "print('ordered A > ',in_sort(A,len(A)))"
   ]
  },
  {
   "cell_type": "markdown",
   "metadata": {},
   "source": [
    "###### Custom permutations class:"
   ]
  },
  {
   "cell_type": "code",
   "execution_count": 5,
   "metadata": {
    "collapsed": true
   },
   "outputs": [],
   "source": [
    "class MyPerm:\n",
    "    def __init__(self):\n",
    "        self.A = [] #contains permutations\n",
    "        self.used = [0]*100 #max, 100 permutations, it wont reach here,so, dont worry :v\n",
    "        self.curPos=0\n",
    "        self.perm=[]\n",
    "    def aux_permutations(self,n):\n",
    "        if(self.curPos==n):\n",
    "            self.A.append(list(self.perm))\n",
    "            return\n",
    "        self.curPos+=1        \n",
    "        for i in range(n):\n",
    "            if(self.used[i]==1): continue\n",
    "            self.used[i]=1;self.perm.append(i);\n",
    "            self.aux_permutations(n)\n",
    "            self.used[i]=0;self.perm.pop()\n",
    "        self.curPos-=1\n",
    "    \n",
    "    def permutations (self,n):\n",
    "        self.__init__()\n",
    "        self.aux_permutations(n)\n",
    "        return self.A"
   ]
  },
  {
   "cell_type": "markdown",
   "metadata": {},
   "source": [
    "### Steps distribution"
   ]
  },
  {
   "cell_type": "code",
   "execution_count": 6,
   "metadata": {
    "collapsed": true
   },
   "outputs": [],
   "source": [
    "#custom function - calc steps\n",
    "# gets n if it only requires a permutation, and m if requires random permutations\n",
    "def calc(which,**kwargs):\n",
    "    n = kwargs.get('n',None)\n",
    "    m = kwargs.get('m',None)\n",
    "    #Generate permutations lenght n\n",
    "    perm = []\n",
    "    n_perm = 0\n",
    "    if(which==0):  #itertools\n",
    "        perm = np.array(list(itertools.permutations(range(n))))\n",
    "        n_perm = len(perm)\n",
    "    elif(which==1): #recursive function\n",
    "        e = MyPerm()\n",
    "        perm = e.permutations(n)\n",
    "        n_perm = len(perm)\n",
    "    else: #random in a range\n",
    "        perm = np.array([np.random.permutation(n) for i in range(m)])\n",
    "        n_perm=m\n",
    "    pasos = np.empty(n_perm)\n",
    "    comparaciones = np.empty(n_perm)\n",
    "    sw = np.empty(n_perm)\n",
    "    t_loop=np.empty([n_perm,n])\n",
    "    for i in range (n_perm):\n",
    "        tm = np.copy(perm[i])\n",
    "        A,steps,comps,swaps,t = in_sort_Mod(tm,n)\n",
    "        pasos[i]=steps\n",
    "        comparaciones[i]=comps\n",
    "        sw[i]=swaps\n",
    "        t_loop[i] = t\n",
    "    return pasos,comparaciones,sw,t_loop,perm,n_perm"
   ]
  },
  {
   "cell_type": "markdown",
   "metadata": {},
   "source": [
    "### Histogram Functions:"
   ]
  },
  {
   "cell_type": "code",
   "execution_count": 7,
   "metadata": {
    "collapsed": true
   },
   "outputs": [],
   "source": [
    "def step_hist(pasos,n_perm,n):\n",
    "    min_steps,max_steps=min(pasos), max(pasos)\n",
    "    plt.hist(pasos, bins=np.arange(min_steps,max_steps + 1, 1), normed=1)\n",
    "    plt.title(\"Probability Density Steps - n = \"+str(n))\n",
    "    plt.xlabel('Steps')\n",
    "    plt.ylabel('Probaility')\n",
    "    plt.show()\n",
    "\n",
    "    #raw data\n",
    "    vals,counts = np.unique(pasos,return_counts=True)\n",
    "    print(\"\\nAverage Steps: \"+str(np.average(pasos)), \"- Min Steps: \"+str(min_steps),\"- Max Steps: \"+str(max_steps))\n",
    "    print(\"Probabilities: \")\n",
    "    for i in range(len(vals)):\n",
    "        print(\"P(\"+str(int(vals[i]))+\") = \"+str(counts[i]/n_perm))\n",
    "def comp_hist(comparaciones,n_perm,n):\n",
    "    #histogram comparisons\n",
    "    min_steps,max_steps=min(comparaciones), max(comparaciones)\n",
    "    plt.hist(comparaciones, bins=np.arange(min_steps,max_steps + 1, 1), normed=1)\n",
    "    plt.title(\"Probability Density Comparisons - n = \"+str(n))\n",
    "    plt.xlabel('n-comparisons')\n",
    "    plt.ylabel('Probaility')\n",
    "    plt.show()\n",
    "\n",
    "    #raw data\n",
    "    vals,counts = np.unique(comparaciones,return_counts=True)\n",
    "    print(\"\\nAverage Comparisons: \"+str(np.average(comparaciones))\n",
    "          , \"- Min Comparisons: \"+str(min_steps),\"- Max Comparisons: \"+str(max_steps))\n",
    "    print(\"Probabilities for Comparisons: \")\n",
    "    for i in range(len(vals)):\n",
    "        print(\"P(\"+str(int(vals[i]))+\") = \"+str(counts[i]/n_perm))\n",
    "def swap_hist(sw,n_perm,n):\n",
    "    #histogram swaps\n",
    "    min_steps,max_steps=min(sw), max(sw)\n",
    "    plt.hist(sw, bins=np.arange(min_steps,max_steps + 1, 1), normed=1)\n",
    "    plt.title(\"Probability Density Swaps - n = \"+str(n))\n",
    "    plt.xlabel('n-swaps')\n",
    "    plt.ylabel('Probaility')\n",
    "    plt.show()\n",
    "    #raw data\n",
    "    vals,counts = np.unique(sw,return_counts=True)\n",
    "    print(\"\\nAverage Swaps: \"+str(np.average(sw)), \"- Min Swaps: \"+str(min_steps),\"- Max Swaps: \"+str(max_steps))\n",
    "    print(\"Probabilities for Swaps: \")\n",
    "    for i in range(len(vals)):\n",
    "        print(\"P(\"+str(int(vals[i]))+\") = \"+str(counts[i]/n_perm))"
   ]
  },
  {
   "cell_type": "markdown",
   "metadata": {},
   "source": [
    "Now we execute them:"
   ]
  },
  {
   "cell_type": "code",
   "execution_count": 8,
   "metadata": {},
   "outputs": [
    {
     "data": {
      "image/png": "[encoded data removed]",
      "text/plain": [
       "<matplotlib.figure.Figure at 0x7f113205aa58>"
      ]
     },
     "metadata": {},
     "output_type": "display_data"
    },
    {
     "name": "stdout",
     "output_type": "stream",
     "text": [
      "\n",
      "Average Steps: 25.0 - Min Steps: 16.0 - Max Steps: 34.0\n",
      "Probabilities: \n",
      "P(16) = 0.0416666666667\n",
      "P(19) = 0.125\n",
      "P(22) = 0.208333333333\n",
      "P(25) = 0.25\n",
      "P(28) = 0.208333333333\n",
      "P(31) = 0.125\n",
      "P(34) = 0.0416666666667\n"
     ]
    },
    {
     "data": {
      "image/png": "[encoded data removed]",
      "text/plain": [
       "<matplotlib.figure.Figure at 0x7f113205a9b0>"
      ]
     },
     "metadata": {},
     "output_type": "display_data"
    },
    {
     "name": "stdout",
     "output_type": "stream",
     "text": [
      "\n",
      "Average Comparisons: 6.0 - Min Comparisons: 3.0 - Max Comparisons: 9.0\n",
      "Probabilities for Comparisons: \n",
      "P(3) = 0.0416666666667\n",
      "P(4) = 0.125\n",
      "P(5) = 0.208333333333\n",
      "P(6) = 0.25\n",
      "P(7) = 0.208333333333\n",
      "P(8) = 0.125\n",
      "P(9) = 0.0416666666667\n"
     ]
    },
    {
     "data": {
      "image/png": "[encoded data removed]",
      "text/plain": [
       "<matplotlib.figure.Figure at 0x7f1132028b38>"
      ]
     },
     "metadata": {},
     "output_type": "display_data"
    },
    {
     "name": "stdout",
     "output_type": "stream",
     "text": [
      "\n",
      "Average Swaps: 3.0 - Min Swaps: 0.0 - Max Swaps: 6.0\n",
      "Probabilities for Swaps: \n",
      "P(0) = 0.0416666666667\n",
      "P(1) = 0.125\n",
      "P(2) = 0.208333333333\n",
      "P(3) = 0.25\n",
      "P(4) = 0.208333333333\n",
      "P(5) = 0.125\n",
      "P(6) = 0.0416666666667\n"
     ]
    }
   ],
   "source": [
    "qt = 4 #permutations\n",
    "pasos,comparaciones,sw,t_loop,perm,n_perm = calc(0,n=qt)\n",
    "step_hist(pasos,n_perm,qt)\n",
    "comp_hist(comparaciones,n_perm,qt)\n",
    "swap_hist(sw,n_perm,qt)"
   ]
  },
  {
   "cell_type": "markdown",
   "metadata": {},
   "source": [
    "And for the number of comparisons performed by each number(Note that each value corresponds to [t0 t1 t2 .... tn]):"
   ]
  },
  {
   "cell_type": "code",
   "execution_count": 9,
   "metadata": {},
   "outputs": [
    {
     "name": "stdout",
     "output_type": "stream",
     "text": [
      "Permutation [0 1 2 3] ->  [ 0.  1.  1.  1.]\n",
      "Permutation [0 1 3 2] ->  [ 0.  1.  1.  2.]\n",
      "Permutation [0 2 1 3] ->  [ 0.  1.  2.  1.]\n",
      "Permutation [0 2 3 1] ->  [ 0.  1.  1.  3.]\n",
      "Permutation [0 3 1 2] ->  [ 0.  1.  2.  2.]\n",
      "Permutation [0 3 2 1] ->  [ 0.  1.  2.  3.]\n",
      "Permutation [1 0 2 3] ->  [ 0.  2.  1.  1.]\n",
      "Permutation [1 0 3 2] ->  [ 0.  2.  1.  2.]\n",
      "Permutation [1 2 0 3] ->  [ 0.  1.  3.  1.]\n",
      "Permutation [1 2 3 0] ->  [ 0.  1.  1.  4.]\n",
      "Permutation [1 3 0 2] ->  [ 0.  1.  3.  2.]\n",
      "Permutation [1 3 2 0] ->  [ 0.  1.  2.  4.]\n",
      "Permutation [2 0 1 3] ->  [ 0.  2.  2.  1.]\n",
      "Permutation [2 0 3 1] ->  [ 0.  2.  1.  3.]\n",
      "Permutation [2 1 0 3] ->  [ 0.  2.  3.  1.]\n",
      "Permutation [2 1 3 0] ->  [ 0.  2.  1.  4.]\n",
      "Permutation [2 3 0 1] ->  [ 0.  1.  3.  3.]\n",
      "Permutation [2 3 1 0] ->  [ 0.  1.  3.  4.]\n",
      "Permutation [3 0 1 2] ->  [ 0.  2.  2.  2.]\n",
      "Permutation [3 0 2 1] ->  [ 0.  2.  2.  3.]\n",
      "Permutation [3 1 0 2] ->  [ 0.  2.  3.  2.]\n",
      "Permutation [3 1 2 0] ->  [ 0.  2.  2.  4.]\n",
      "Permutation [3 2 0 1] ->  [ 0.  2.  3.  3.]\n",
      "Permutation [3 2 1 0] ->  [ 0.  2.  3.  4.]\n"
     ]
    }
   ],
   "source": [
    "t_norm = np.empty(n_perm)\n",
    "for i in range(n_perm):\n",
    "    print (\"Permutation \"+ str(perm[i]) +\" -> \",t_loop[i])"
   ]
  },
  {
   "cell_type": "markdown",
   "metadata": {},
   "source": [
    "## Samples"
   ]
  },
  {
   "cell_type": "markdown",
   "metadata": {},
   "source": [
    "### Recursive Permutation Function - No itertools"
   ]
  },
  {
   "cell_type": "markdown",
   "metadata": {},
   "source": [
    "Using calc(1,n=qt)"
   ]
  },
  {
   "cell_type": "code",
   "execution_count": 10,
   "metadata": {},
   "outputs": [
    {
     "data": {
      "image/png": "[encoded data removed]",
      "text/plain": [
       "<matplotlib.figure.Figure at 0x7f11260e0940>"
      ]
     },
     "metadata": {},
     "output_type": "display_data"
    },
    {
     "name": "stdout",
     "output_type": "stream",
     "text": [
      "\n",
      "Average Steps: 25.0 - Min Steps: 16.0 - Max Steps: 34.0\n",
      "Probabilities: \n",
      "P(16) = 0.0416666666667\n",
      "P(19) = 0.125\n",
      "P(22) = 0.208333333333\n",
      "P(25) = 0.25\n",
      "P(28) = 0.208333333333\n",
      "P(31) = 0.125\n",
      "P(34) = 0.0416666666667\n"
     ]
    },
    {
     "data": {
      "image/png": "[encoded data removed]",
      "text/plain": [
       "<matplotlib.figure.Figure at 0x7f11260692b0>"
      ]
     },
     "metadata": {},
     "output_type": "display_data"
    },
    {
     "name": "stdout",
     "output_type": "stream",
     "text": [
      "\n",
      "Average Comparisons: 6.0 - Min Comparisons: 3.0 - Max Comparisons: 9.0\n",
      "Probabilities for Comparisons: \n",
      "P(3) = 0.0416666666667\n",
      "P(4) = 0.125\n",
      "P(5) = 0.208333333333\n",
      "P(6) = 0.25\n",
      "P(7) = 0.208333333333\n",
      "P(8) = 0.125\n",
      "P(9) = 0.0416666666667\n"
     ]
    },
    {
     "data": {
      "image/png": "[encoded data removed]",
      "text/plain": [
       "<matplotlib.figure.Figure at 0x7f1126015048>"
      ]
     },
     "metadata": {},
     "output_type": "display_data"
    },
    {
     "name": "stdout",
     "output_type": "stream",
     "text": [
      "\n",
      "Average Swaps: 3.0 - Min Swaps: 0.0 - Max Swaps: 6.0\n",
      "Probabilities for Swaps: \n",
      "P(0) = 0.0416666666667\n",
      "P(1) = 0.125\n",
      "P(2) = 0.208333333333\n",
      "P(3) = 0.25\n",
      "P(4) = 0.208333333333\n",
      "P(5) = 0.125\n",
      "P(6) = 0.0416666666667\n"
     ]
    }
   ],
   "source": [
    "#Call the function\n",
    "qt=4\n",
    "pasos,comparaciones,sw,t_loop,perm,n_perm = calc(1,n=qt)\n",
    "step_hist(pasos,n_perm,qt)\n",
    "comp_hist(comparaciones,n_perm,qt)\n",
    "swap_hist(sw,n_perm,qt)"
   ]
  },
  {
   "cell_type": "markdown",
   "metadata": {},
   "source": [
    "### Random Permutations"
   ]
  },
  {
   "cell_type": "markdown",
   "metadata": {},
   "source": [
    "Here we test the same, but instead of using all permutations, we decide to take $m$ random permutations of $n$ numbers"
   ]
  },
  {
   "cell_type": "code",
   "execution_count": 11,
   "metadata": {},
   "outputs": [
    {
     "data": {
      "image/png": "[encoded data removed]",
      "text/plain": [
       "<matplotlib.figure.Figure at 0x7f11260e0358>"
      ]
     },
     "metadata": {},
     "output_type": "display_data"
    },
    {
     "name": "stdout",
     "output_type": "stream",
     "text": [
      "\n",
      "Average Steps: 113.68 - Min Steps: 64.0 - Max Steps: 166.0\n",
      "Probabilities: \n",
      "P(64) = 0.001\n",
      "P(67) = 0.001\n",
      "P(73) = 0.002\n",
      "P(76) = 0.002\n",
      "P(79) = 0.006\n",
      "P(82) = 0.017\n",
      "P(85) = 0.014\n",
      "P(88) = 0.02\n",
      "P(91) = 0.03\n",
      "P(94) = 0.035\n",
      "P(97) = 0.055\n",
      "P(100) = 0.063\n",
      "P(103) = 0.059\n",
      "P(106) = 0.058\n",
      "P(109) = 0.064\n",
      "P(112) = 0.071\n",
      "P(115) = 0.072\n",
      "P(118) = 0.075\n",
      "P(121) = 0.064\n",
      "P(124) = 0.055\n",
      "P(127) = 0.058\n",
      "P(130) = 0.041\n",
      "P(133) = 0.035\n",
      "P(136) = 0.024\n",
      "P(139) = 0.025\n",
      "P(142) = 0.015\n",
      "P(145) = 0.009\n",
      "P(148) = 0.011\n",
      "P(151) = 0.007\n",
      "P(154) = 0.007\n",
      "P(157) = 0.002\n",
      "P(163) = 0.001\n",
      "P(166) = 0.001\n"
     ]
    },
    {
     "data": {
      "image/png": "[encoded data removed]",
      "text/plain": [
       "<matplotlib.figure.Figure at 0x7f1126004ba8>"
      ]
     },
     "metadata": {},
     "output_type": "display_data"
    },
    {
     "name": "stdout",
     "output_type": "stream",
     "text": [
      "\n",
      "Average Comparisons: 31.56 - Min Comparisons: 15.0 - Max Comparisons: 49.0\n",
      "Probabilities for Comparisons: \n",
      "P(15) = 0.001\n",
      "P(16) = 0.001\n",
      "P(18) = 0.002\n",
      "P(19) = 0.002\n",
      "P(20) = 0.006\n",
      "P(21) = 0.017\n",
      "P(22) = 0.014\n",
      "P(23) = 0.02\n",
      "P(24) = 0.03\n",
      "P(25) = 0.035\n",
      "P(26) = 0.055\n",
      "P(27) = 0.063\n",
      "P(28) = 0.059\n",
      "P(29) = 0.058\n",
      "P(30) = 0.064\n",
      "P(31) = 0.071\n",
      "P(32) = 0.072\n",
      "P(33) = 0.075\n",
      "P(34) = 0.064\n",
      "P(35) = 0.055\n",
      "P(36) = 0.058\n",
      "P(37) = 0.041\n",
      "P(38) = 0.035\n",
      "P(39) = 0.024\n",
      "P(40) = 0.025\n",
      "P(41) = 0.015\n",
      "P(42) = 0.009\n",
      "P(43) = 0.011\n",
      "P(44) = 0.007\n",
      "P(45) = 0.007\n",
      "P(46) = 0.002\n",
      "P(48) = 0.001\n",
      "P(49) = 0.001\n"
     ]
    },
    {
     "data": {
      "image/png": "[encoded data removed]",
      "text/plain": [
       "<matplotlib.figure.Figure at 0x7f1126004c50>"
      ]
     },
     "metadata": {},
     "output_type": "display_data"
    },
    {
     "name": "stdout",
     "output_type": "stream",
     "text": [
      "\n",
      "Average Swaps: 22.56 - Min Swaps: 6.0 - Max Swaps: 40.0\n",
      "Probabilities for Swaps: \n",
      "P(6) = 0.001\n",
      "P(7) = 0.001\n",
      "P(9) = 0.002\n",
      "P(10) = 0.002\n",
      "P(11) = 0.006\n",
      "P(12) = 0.017\n",
      "P(13) = 0.014\n",
      "P(14) = 0.02\n",
      "P(15) = 0.03\n",
      "P(16) = 0.035\n",
      "P(17) = 0.055\n",
      "P(18) = 0.063\n",
      "P(19) = 0.059\n",
      "P(20) = 0.058\n",
      "P(21) = 0.064\n",
      "P(22) = 0.071\n",
      "P(23) = 0.072\n",
      "P(24) = 0.075\n",
      "P(25) = 0.064\n",
      "P(26) = 0.055\n",
      "P(27) = 0.058\n",
      "P(28) = 0.041\n",
      "P(29) = 0.035\n",
      "P(30) = 0.024\n",
      "P(31) = 0.025\n",
      "P(32) = 0.015\n",
      "P(33) = 0.009\n",
      "P(34) = 0.011\n",
      "P(35) = 0.007\n",
      "P(36) = 0.007\n",
      "P(37) = 0.002\n",
      "P(39) = 0.001\n",
      "P(40) = 0.001\n"
     ]
    }
   ],
   "source": [
    "#Call the function\n",
    "qt,rand_amount = 10,1000\n",
    "pasos,comparaciones,sw,t_loop,perm,n_perm = calc(2,n=qt,m=rand_amount)\n",
    "\n",
    "step_hist(pasos,n_perm,qt)\n",
    "comp_hist(comparaciones,n_perm,qt)\n",
    "swap_hist(sw,n_perm,qt)"
   ]
  },
  {
   "cell_type": "markdown",
   "metadata": {},
   "source": [
    "# Performance Comparison Between Itertools and Recursive"
   ]
  },
  {
   "cell_type": "markdown",
   "metadata": {},
   "source": [
    "In order to compare the performance between itertools.permutations() and MyPerm.perutations(), we set a 3 seconds limit to determine how many permutations can be performed."
   ]
  },
  {
   "cell_type": "code",
   "execution_count": 15,
   "metadata": {
    "collapsed": true
   },
   "outputs": [],
   "source": [
    "# As seen in http://code.activestate.com/recipes/534115-function-timeout/\n",
    "import signal\n",
    "\n",
    "def iterT(n): #Itertools\n",
    "    np.array(list(itertools.permutations(range(n))))\n",
    "\n",
    "def rec(n): #Recursive\n",
    "    e = MyPerm()\n",
    "    e.permutations(n)"
   ]
  },
  {
   "cell_type": "markdown",
   "metadata": {},
   "source": [
    "## Itertools"
   ]
  },
  {
   "cell_type": "code",
   "execution_count": 18,
   "metadata": {},
   "outputs": [
    {
     "name": "stdout",
     "output_type": "stream",
     "text": [
      "0 = 2.1000000003823516e-05\n",
      "1 = 2.800000000036107e-05\n",
      "2 = 1.2999999995599865e-05\n",
      "3 = 1.2999999995599865e-05\n",
      "4 = 2.5000000000829914e-05\n",
      "5 = 0.00010000000000331966\n",
      "6 = 0.0005310000000022796\n",
      "7 = 0.003982000000000596\n",
      "8 = 0.03466399999999936\n",
      "9 = 0.2805149999999941\n",
      "10 = 2.9960510000000014\n"
     ]
    },
    {
     "ename": "TimeoutError",
     "evalue": "",
     "output_type": "error",
     "traceback": [
      "\u001b[0;31m---------------------------------------------------------------------------\u001b[0m",
      "\u001b[0;31mKeyboardInterrupt\u001b[0m                         Traceback (most recent call last)",
      "\u001b[0;32m<ipython-input-18-87ee28b76514>\u001b[0m in \u001b[0;36m<module>\u001b[0;34m()\u001b[0m\n\u001b[1;32m      8\u001b[0m         \u001b[0mt0\u001b[0m \u001b[0;34m=\u001b[0m \u001b[0mtime\u001b[0m\u001b[0;34m.\u001b[0m\u001b[0mclock\u001b[0m\u001b[0;34m(\u001b[0m\u001b[0;34m)\u001b[0m\u001b[0;34m\u001b[0m\u001b[0m\n\u001b[0;32m----> 9\u001b[0;31m         \u001b[0miterT\u001b[0m\u001b[0;34m(\u001b[0m\u001b[0mi\u001b[0m\u001b[0;34m)\u001b[0m\u001b[0;34m\u001b[0m\u001b[0m\n\u001b[0m\u001b[1;32m     10\u001b[0m         \u001b[0mprint\u001b[0m\u001b[0;34m(\u001b[0m\u001b[0mi\u001b[0m\u001b[0;34m,\u001b[0m\u001b[0;34m'='\u001b[0m\u001b[0;34m,\u001b[0m\u001b[0mtime\u001b[0m\u001b[0;34m.\u001b[0m\u001b[0mclock\u001b[0m\u001b[0;34m(\u001b[0m\u001b[0;34m)\u001b[0m\u001b[0;34m-\u001b[0m\u001b[0mt0\u001b[0m\u001b[0;34m)\u001b[0m\u001b[0;34m\u001b[0m\u001b[0m\n",
      "\u001b[0;32m<ipython-input-15-c01ad3884031>\u001b[0m in \u001b[0;36miterT\u001b[0;34m(n)\u001b[0m\n\u001b[1;32m      4\u001b[0m \u001b[0;32mdef\u001b[0m \u001b[0miterT\u001b[0m\u001b[0;34m(\u001b[0m\u001b[0mn\u001b[0m\u001b[0;34m)\u001b[0m\u001b[0;34m:\u001b[0m \u001b[0;31m#Itertools\u001b[0m\u001b[0;34m\u001b[0m\u001b[0m\n\u001b[0;32m----> 5\u001b[0;31m     \u001b[0mnp\u001b[0m\u001b[0;34m.\u001b[0m\u001b[0marray\u001b[0m\u001b[0;34m(\u001b[0m\u001b[0mlist\u001b[0m\u001b[0;34m(\u001b[0m\u001b[0mitertools\u001b[0m\u001b[0;34m.\u001b[0m\u001b[0mpermutations\u001b[0m\u001b[0;34m(\u001b[0m\u001b[0mrange\u001b[0m\u001b[0;34m(\u001b[0m\u001b[0mn\u001b[0m\u001b[0;34m)\u001b[0m\u001b[0;34m)\u001b[0m\u001b[0;34m)\u001b[0m\u001b[0;34m)\u001b[0m\u001b[0;34m\u001b[0m\u001b[0m\n\u001b[0m\u001b[1;32m      6\u001b[0m \u001b[0;34m\u001b[0m\u001b[0m\n",
      "\u001b[0;31mKeyboardInterrupt\u001b[0m: ",
      "\nDuring handling of the above exception, another exception occurred:\n",
      "\u001b[0;31mKeyboardInterrupt\u001b[0m                         Traceback (most recent call last)",
      "\u001b[0;32m~/anaconda3/lib/python3.6/site-packages/IPython/core/interactiveshell.py\u001b[0m in \u001b[0;36mrun_code\u001b[0;34m(self, code_obj, result)\u001b[0m\n\u001b[1;32m   2861\u001b[0m                 \u001b[0;31m#rprint('Running code', repr(code_obj)) # dbg\u001b[0m\u001b[0;34m\u001b[0m\u001b[0;34m\u001b[0m\u001b[0m\n\u001b[0;32m-> 2862\u001b[0;31m                 \u001b[0mexec\u001b[0m\u001b[0;34m(\u001b[0m\u001b[0mcode_obj\u001b[0m\u001b[0;34m,\u001b[0m \u001b[0mself\u001b[0m\u001b[0;34m.\u001b[0m\u001b[0muser_global_ns\u001b[0m\u001b[0;34m,\u001b[0m \u001b[0mself\u001b[0m\u001b[0;34m.\u001b[0m\u001b[0muser_ns\u001b[0m\u001b[0;34m)\u001b[0m\u001b[0;34m\u001b[0m\u001b[0m\n\u001b[0m\u001b[1;32m   2863\u001b[0m             \u001b[0;32mfinally\u001b[0m\u001b[0;34m:\u001b[0m\u001b[0;34m\u001b[0m\u001b[0m\n",
      "\u001b[0;32m<ipython-input-18-87ee28b76514>\u001b[0m in \u001b[0;36m<module>\u001b[0;34m()\u001b[0m\n\u001b[1;32m      8\u001b[0m         \u001b[0mt0\u001b[0m \u001b[0;34m=\u001b[0m \u001b[0mtime\u001b[0m\u001b[0;34m.\u001b[0m\u001b[0mclock\u001b[0m\u001b[0;34m(\u001b[0m\u001b[0;34m)\u001b[0m\u001b[0;34m\u001b[0m\u001b[0m\n\u001b[0;32m----> 9\u001b[0;31m         \u001b[0miterT\u001b[0m\u001b[0;34m(\u001b[0m\u001b[0mi\u001b[0m\u001b[0;34m)\u001b[0m\u001b[0;34m\u001b[0m\u001b[0m\n\u001b[0m\u001b[1;32m     10\u001b[0m         \u001b[0mprint\u001b[0m\u001b[0;34m(\u001b[0m\u001b[0mi\u001b[0m\u001b[0;34m,\u001b[0m\u001b[0;34m'='\u001b[0m\u001b[0;34m,\u001b[0m\u001b[0mtime\u001b[0m\u001b[0;34m.\u001b[0m\u001b[0mclock\u001b[0m\u001b[0;34m(\u001b[0m\u001b[0;34m)\u001b[0m\u001b[0;34m-\u001b[0m\u001b[0mt0\u001b[0m\u001b[0;34m)\u001b[0m\u001b[0;34m\u001b[0m\u001b[0m\n",
      "\u001b[0;31mKeyboardInterrupt\u001b[0m: ",
      "\nDuring handling of the above exception, another exception occurred:\n",
      "\u001b[0;31mTimeoutError\u001b[0m                              Traceback (most recent call last)",
      "\u001b[0;32m<ipython-input-18-87ee28b76514>\u001b[0m in \u001b[0;36mtimeout\u001b[0;34m(signum, frame)\u001b[0m\n\u001b[1;32m      1\u001b[0m \u001b[0;32mdef\u001b[0m \u001b[0mtimeout\u001b[0m\u001b[0;34m(\u001b[0m\u001b[0msignum\u001b[0m\u001b[0;34m,\u001b[0m \u001b[0mframe\u001b[0m\u001b[0;34m)\u001b[0m\u001b[0;34m:\u001b[0m\u001b[0;34m\u001b[0m\u001b[0m\n\u001b[0;32m----> 2\u001b[0;31m     \u001b[0;32mraise\u001b[0m \u001b[0mTimeoutError\u001b[0m\u001b[0;34m\u001b[0m\u001b[0m\n\u001b[0m\u001b[1;32m      3\u001b[0m \u001b[0;34m\u001b[0m\u001b[0m\n\u001b[1;32m      4\u001b[0m \u001b[0;32mfor\u001b[0m \u001b[0mi\u001b[0m \u001b[0;32min\u001b[0m \u001b[0mrange\u001b[0m\u001b[0;34m(\u001b[0m\u001b[0;36m100\u001b[0m\u001b[0;34m)\u001b[0m\u001b[0;34m:\u001b[0m\u001b[0;34m\u001b[0m\u001b[0m\n\u001b[1;32m      5\u001b[0m     \u001b[0msignal\u001b[0m\u001b[0;34m.\u001b[0m\u001b[0msignal\u001b[0m\u001b[0;34m(\u001b[0m\u001b[0msignal\u001b[0m\u001b[0;34m.\u001b[0m\u001b[0mSIGALRM\u001b[0m\u001b[0;34m,\u001b[0m\u001b[0mtimeout\u001b[0m\u001b[0;34m)\u001b[0m\u001b[0;34m\u001b[0m\u001b[0m\n",
      "\u001b[0;31mTimeoutError\u001b[0m: "
     ]
    }
   ],
   "source": [
    "def timeout(signum, frame):\n",
    "    raise TimeoutError\n",
    "\n",
    "for i in range(100):\n",
    "    signal.signal(signal.SIGALRM,timeout)\n",
    "    signal.alarm(10)\n",
    "    try:\n",
    "        t0 = time.clock()\n",
    "        iterT(i)\n",
    "        print(i,'=',time.clock()-t0)\n",
    "    except TimeoutError:\n",
    "        print('TLE at:',i)\n",
    "        break\n",
    "    "
   ]
  },
  {
   "cell_type": "markdown",
   "metadata": {},
   "source": [
    "###### Note that we stopped the process manually because it filled all the ram and swap."
   ]
  },
  {
   "cell_type": "markdown",
   "metadata": {},
   "source": [
    "## Recursive"
   ]
  },
  {
   "cell_type": "code",
   "execution_count": 19,
   "metadata": {},
   "outputs": [
    {
     "name": "stdout",
     "output_type": "stream",
     "text": [
      "0 = 1.9000000001767603e-05\n",
      "1 = 3.199999999736747e-05\n",
      "2 = 3.799999999642978e-05\n",
      "3 = 6.700000000137152e-05\n",
      "4 = 0.00023199999999690135\n",
      "5 = 0.0011419999999944253\n",
      "6 = 0.0038489999999953284\n",
      "7 = 0.01893400000000156\n",
      "8 = 0.21610499999999888\n",
      "9 = 1.5719150000000042\n",
      "TLE at: 10\n"
     ]
    }
   ],
   "source": [
    "for i in range(100):\n",
    "    signal.signal(signal.SIGALRM,timeout)\n",
    "    signal.alarm(4)\n",
    "    try:\n",
    "        t0 = time.clock()\n",
    "        rec(i)\n",
    "        print(i,'=',time.clock()-t0)\n",
    "    except TimeoutError:\n",
    "        print('TLE at:',i)\n",
    "        break\n",
    "    "
   ]
  },
  {
   "cell_type": "markdown",
   "metadata": {
    "collapsed": true
   },
   "source": [
    "Aparentlly the performance of the recursive one is better than itertools, but in general terms, after 10 the process of generating all the permutations takes a lot of time and memory."
   ]
  }
 ],
 "metadata": {
  "kernelspec": {
   "display_name": "Python 3",
   "language": "python",
   "name": "python3"
  },
  "language_info": {
   "codemirror_mode": {
    "name": "ipython",
    "version": 3
   },
   "file_extension": ".py",
   "mimetype": "text/x-python",
   "name": "python",
   "nbconvert_exporter": "python",
   "pygments_lexer": "ipython3",
   "version": "3.6.3"
  }
 },
 "nbformat": 4,
 "nbformat_minor": 2
}
