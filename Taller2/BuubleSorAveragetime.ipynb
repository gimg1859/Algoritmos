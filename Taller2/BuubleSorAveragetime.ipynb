{
 "cells": [
  {
   "cell_type": "markdown",
   "metadata": {},
   "source": [
    "# Bubble Sort\n",
    "## Sort function"
   ]
  },
  {
   "cell_type": "code",
   "execution_count": 1,
   "metadata": {
    "collapsed": true
   },
   "outputs": [],
   "source": [
    "import numpy as np\n",
    "import time\n",
    "import itertools\n",
    "import matplotlib.pyplot as plt"
   ]
  },
  {
   "cell_type": "code",
   "execution_count": 55,
   "metadata": {
    "collapsed": true
   },
   "outputs": [],
   "source": [
    "def b_sort(A,aLen):\n",
    "    for i in range(0,aLen):\n",
    "        swapped = False\n",
    "        for j in range(1,aLen-i):\n",
    "            if(A[j-1]>A[j]):\n",
    "                A[j-1],A[j] = A[j],A[j-1] #Swap\n",
    "                swapped = True\n",
    "        if(not swapped):break\n",
    "    return A\n",
    "\n",
    "#Modified version, returns steps and comparisons\n",
    "def b_sort_Mod(A,aLen):\n",
    "    #init counters\n",
    "    steps,comps,swaps = 0,0,0\n",
    "    t=np.zeros(aLen,dtype=int)\n",
    "    \n",
    "    i = 0;steps+=1\n",
    "    while(i<aLen):\n",
    "        j=1\n",
    "        swapped = False\n",
    "        while(j<aLen-i):\n",
    "            comps+=1\n",
    "            if(A[j-1]>A[j]):\n",
    "                A[j-1],A[j] = A[j],A[j-1] #Swap\n",
    "                t[j]+=1\n",
    "                swapped = True\n",
    "                swaps+=1\n",
    "                steps+=4 #actually swap requires 3 steps\n",
    "            j+=1\n",
    "            steps+=3\n",
    "        steps+=3\n",
    "        if(not swapped):break\n",
    "        i+=1\n",
    "        steps+=2\n",
    "        \n",
    "    return A,steps,comps,swaps,t"
   ]
  },
  {
   "cell_type": "markdown",
   "metadata": {},
   "source": [
    "Here we test the function:"
   ]
  },
  {
   "cell_type": "code",
   "execution_count": 56,
   "metadata": {},
   "outputs": [
    {
     "name": "stdout",
     "output_type": "stream",
     "text": [
      "A >  [0 5 1 3 4 7 9]\n",
      "ordered A >  [0 1 3 4 5 7 9]\n"
     ]
    }
   ],
   "source": [
    "A = np.array([0,5,1,3,4,7,9])\n",
    "print('A > ',A)\n",
    "print('ordered A > ',b_sort(A,len(A)))"
   ]
  },
  {
   "cell_type": "markdown",
   "metadata": {},
   "source": [
    "###### Custom permutations class:"
   ]
  },
  {
   "cell_type": "code",
   "execution_count": 57,
   "metadata": {
    "collapsed": true
   },
   "outputs": [],
   "source": [
    "class MyPerm:\n",
    "    def __init__(self):\n",
    "        self.A = [] #contains permutations\n",
    "        self.used = [0]*100 #max, 100 permutations, it wont reach here,so, dont worry :v\n",
    "        self.curPos=0\n",
    "        self.perm=[]\n",
    "    def aux_permutations(self,n):\n",
    "        if(self.curPos==n):\n",
    "            self.A.append(list(self.perm))\n",
    "            return\n",
    "        self.curPos+=1        \n",
    "        for i in range(n):\n",
    "            if(self.used[i]==1): continue\n",
    "            self.used[i]=1;self.perm.append(i);\n",
    "            self.aux_permutations(n)\n",
    "            self.used[i]=0;self.perm.pop()\n",
    "        self.curPos-=1\n",
    "    \n",
    "    def permutations (self,n):\n",
    "        self.__init__()\n",
    "        self.aux_permutations(n)\n",
    "        return self.A"
   ]
  },
  {
   "cell_type": "markdown",
   "metadata": {},
   "source": [
    "### Steps distribution"
   ]
  },
  {
   "cell_type": "code",
   "execution_count": 58,
   "metadata": {
    "collapsed": true
   },
   "outputs": [],
   "source": [
    "#custom function - calc steps\n",
    "# gets n if it only requires a permutation, and m if requires random permutations\n",
    "def calc(which,**kwargs):\n",
    "    n = kwargs.get('n',None)\n",
    "    m = kwargs.get('m',None)\n",
    "    #Generate permutations lenght n\n",
    "    perm = []\n",
    "    n_perm = 0\n",
    "    if(which==0):  #itertools\n",
    "        perm = np.array(list(itertools.permutations(range(n))))\n",
    "        n_perm = len(perm)\n",
    "    elif(which==1): #recursive function\n",
    "        e = MyPerm()\n",
    "        perm = e.permutations(n)\n",
    "        n_perm = len(perm)\n",
    "    else: #random in a range\n",
    "        perm = np.array([np.random.permutation(n) for i in range(m)])\n",
    "        n_perm=m\n",
    "    pasos = np.empty(n_perm)\n",
    "    comparaciones = np.empty(n_perm)\n",
    "    sw = np.empty(n_perm)\n",
    "    t_loop=np.empty([n_perm,n])\n",
    "    for i in range (n_perm):\n",
    "        tm = np.copy(perm[i])\n",
    "        A,steps,comps,swaps,t = b_sort_Mod(tm,n)\n",
    "        pasos[i]=steps\n",
    "        comparaciones[i]=comps\n",
    "        sw[i]=swaps\n",
    "        t_loop[i] = t\n",
    "    return pasos,comparaciones,sw,t_loop,perm,n_perm"
   ]
  },
  {
   "cell_type": "markdown",
   "metadata": {},
   "source": [
    "### Histogram Functions:"
   ]
  },
  {
   "cell_type": "code",
   "execution_count": 59,
   "metadata": {
    "collapsed": true
   },
   "outputs": [],
   "source": [
    "def step_hist(pasos,n_perm,n):\n",
    "    min_steps,max_steps=min(pasos), max(pasos)\n",
    "    plt.hist(pasos, bins=np.arange(min_steps,max_steps + 1, 1), normed=1)\n",
    "    plt.title(\"Probability Density Steps - n = \"+str(n))\n",
    "    plt.xlabel('Steps')\n",
    "    plt.ylabel('Probaility')\n",
    "    plt.show()\n",
    "\n",
    "    #raw data\n",
    "    vals,counts = np.unique(pasos,return_counts=True)\n",
    "    print(\"\\nAverage Steps: \"+str(np.average(pasos)), \"- Min Steps: \"+str(min_steps),\"- Max Steps: \"+str(max_steps))\n",
    "    print(\"Probabilities: \")\n",
    "    for i in range(len(vals)):\n",
    "        print(\"P(\"+str(int(vals[i]))+\") = \"+str(counts[i]/n_perm))\n",
    "def comp_hist(comparaciones,n_perm,n):\n",
    "    #histogram comparisons\n",
    "    min_steps,max_steps=min(comparaciones), max(comparaciones)\n",
    "    plt.hist(comparaciones, normed=1)\n",
    "    plt.title(\"Probability Density Comparisons - n = \"+str(n))\n",
    "    plt.xlabel('n-comparisons')\n",
    "    plt.ylabel('Probaility')\n",
    "    plt.show()\n",
    "\n",
    "    #raw data\n",
    "    vals,counts = np.unique(comparaciones,return_counts=True)\n",
    "    print(\"\\nAverage Comparisons: \"+str(np.average(comparaciones))\n",
    "          , \"- Min Comparisons: \"+str(min_steps),\"- Max Comparisons: \"+str(max_steps))\n",
    "    print(\"Probabilities for Comparisons: \")\n",
    "    for i in range(len(vals)):\n",
    "        print(\"P(\"+str(int(vals[i]))+\") = \"+str(counts[i]/n_perm))\n",
    "def swap_hist(sw,n_perm,n):\n",
    "    #histogram swaps\n",
    "    min_steps,max_steps=min(sw), max(sw)\n",
    "    plt.hist(sw,normed=1)\n",
    "    plt.title(\"Probability Density Swaps - n = \"+str(n))\n",
    "    plt.xlabel('n-swaps')\n",
    "    plt.ylabel('Probaility')\n",
    "    plt.show()\n",
    "    #raw data\n",
    "    vals,counts = np.unique(sw,return_counts=True)\n",
    "    print(\"\\nAverage Swaps: \"+str(np.average(sw)), \"- Min Swaps: \"+str(min_steps),\"- Max Swaps: \"+str(max_steps))\n",
    "    print(\"Probabilities for Swaps: \")\n",
    "    for i in range(len(vals)):\n",
    "        print(\"P(\"+str(int(vals[i]))+\") = \"+str(counts[i]/n_perm))"
   ]
  },
  {
   "cell_type": "markdown",
   "metadata": {},
   "source": [
    "Now we execute them:"
   ]
  },
  {
   "cell_type": "code",
   "execution_count": 60,
   "metadata": {},
   "outputs": [
    {
     "data": {
      "image/png": "[encoded data removed]",
      "text/plain": [
       "<matplotlib.figure.Figure at 0x7ff5e3bca9b0>"
      ]
     },
     "metadata": {},
     "output_type": "display_data"
    },
    {
     "name": "stdout",
     "output_type": "stream",
     "text": [
      "\n",
      "Average Steps: 64.8166666667 - Min Steps: 16.0 - Max Steps: 94.0\n",
      "Probabilities: \n",
      "P(16) = 0.00833333333333\n",
      "P(34) = 0.0333333333333\n",
      "P(38) = 0.05\n",
      "P(42) = 0.0333333333333\n",
      "P(46) = 0.00833333333333\n",
      "P(49) = 0.025\n",
      "P(53) = 0.075\n",
      "P(57) = 0.1\n",
      "P(61) = 0.0916666666667\n",
      "P(65) = 0.0833333333333\n",
      "P(69) = 0.0916666666667\n",
      "P(70) = 0.00833333333333\n",
      "P(73) = 0.0916666666667\n",
      "P(74) = 0.025\n",
      "P(77) = 0.0666666666667\n",
      "P(78) = 0.0416666666667\n",
      "P(81) = 0.0333333333333\n",
      "P(82) = 0.05\n",
      "P(85) = 0.00833333333333\n",
      "P(86) = 0.0416666666667\n",
      "P(90) = 0.025\n",
      "P(94) = 0.00833333333333\n"
     ]
    },
    {
     "data": {
      "image/png": "[encoded data removed]",
      "text/plain": [
       "<matplotlib.figure.Figure at 0x7ff5e3b26f28>"
      ]
     },
     "metadata": {},
     "output_type": "display_data"
    },
    {
     "name": "stdout",
     "output_type": "stream",
     "text": [
      "\n",
      "Average Comparisons: 9.25833333333 - Min Comparisons: 4.0 - Max Comparisons: 10.0\n",
      "Probabilities for Comparisons: \n",
      "P(4) = 0.00833333333333\n",
      "P(7) = 0.125\n",
      "P(9) = 0.316666666667\n",
      "P(10) = 0.55\n"
     ]
    },
    {
     "data": {
      "image/png": "[encoded data removed]",
      "text/plain": [
       "<matplotlib.figure.Figure at 0x7ff5ebbba6d8>"
      ]
     },
     "metadata": {},
     "output_type": "display_data"
    },
    {
     "name": "stdout",
     "output_type": "stream",
     "text": [
      "\n",
      "Average Swaps: 5.0 - Min Swaps: 0.0 - Max Swaps: 10.0\n",
      "Probabilities for Swaps: \n",
      "P(0) = 0.00833333333333\n",
      "P(1) = 0.0333333333333\n",
      "P(2) = 0.075\n",
      "P(3) = 0.125\n",
      "P(4) = 0.166666666667\n",
      "P(5) = 0.183333333333\n",
      "P(6) = 0.166666666667\n",
      "P(7) = 0.125\n",
      "P(8) = 0.075\n",
      "P(9) = 0.0333333333333\n",
      "P(10) = 0.00833333333333\n"
     ]
    }
   ],
   "source": [
    "qt = 5 #permutations\n",
    "pasos,comparaciones,sw,t_loop,perm,n_perm = calc(0,n=qt)\n",
    "step_hist(pasos,n_perm,qt)\n",
    "comp_hist(comparaciones,n_perm,qt)\n",
    "swap_hist(sw,n_perm,qt)"
   ]
  },
  {
   "cell_type": "markdown",
   "metadata": {},
   "source": [
    "And for the number of comparisons performed by each number(Note that each value corresponds to [t0 t1 t2 .... tn]):"
   ]
  },
  {
   "cell_type": "code",
   "execution_count": 61,
   "metadata": {},
   "outputs": [
    {
     "name": "stdout",
     "output_type": "stream",
     "text": [
      "Permutation [0 1 2 3 4] ->  [ 0.  0.  0.  0.  0.]\n",
      "Permutation [0 1 2 4 3] ->  [ 0.  0.  0.  0.  1.]\n",
      "Permutation [0 1 3 2 4] ->  [ 0.  0.  0.  1.  0.]\n",
      "Permutation [0 1 3 4 2] ->  [ 0.  0.  0.  1.  1.]\n",
      "Permutation [0 1 4 2 3] ->  [ 0.  0.  0.  1.  1.]\n",
      "Permutation [0 1 4 3 2] ->  [ 0.  0.  0.  2.  1.]\n",
      "Permutation [0 2 1 3 4] ->  [ 0.  0.  1.  0.  0.]\n",
      "Permutation [0 2 1 4 3] ->  [ 0.  0.  1.  0.  1.]\n",
      "Permutation [0 2 3 1 4] ->  [ 0.  0.  1.  1.  0.]\n",
      "Permutation [0 2 3 4 1] ->  [ 0.  0.  1.  1.  1.]\n",
      "Permutation [0 2 4 1 3] ->  [ 0.  0.  1.  1.  1.]\n",
      "Permutation [0 2 4 3 1] ->  [ 0.  0.  1.  2.  1.]\n",
      "Permutation [0 3 1 2 4] ->  [ 0.  0.  1.  1.  0.]\n",
      "Permutation [0 3 1 4 2] ->  [ 0.  0.  1.  1.  1.]\n",
      "Permutation [0 3 2 1 4] ->  [ 0.  0.  2.  1.  0.]\n",
      "Permutation [0 3 2 4 1] ->  [ 0.  0.  2.  1.  1.]\n",
      "Permutation [0 3 4 1 2] ->  [ 0.  0.  1.  2.  1.]\n",
      "Permutation [0 3 4 2 1] ->  [ 0.  0.  2.  2.  1.]\n",
      "Permutation [0 4 1 2 3] ->  [ 0.  0.  1.  1.  1.]\n",
      "Permutation [0 4 1 3 2] ->  [ 0.  0.  1.  2.  1.]\n",
      "Permutation [0 4 2 1 3] ->  [ 0.  0.  2.  1.  1.]\n",
      "Permutation [0 4 2 3 1] ->  [ 0.  0.  2.  2.  1.]\n",
      "Permutation [0 4 3 1 2] ->  [ 0.  0.  2.  2.  1.]\n",
      "Permutation [0 4 3 2 1] ->  [ 0.  0.  3.  2.  1.]\n",
      "Permutation [1 0 2 3 4] ->  [ 0.  1.  0.  0.  0.]\n",
      "Permutation [1 0 2 4 3] ->  [ 0.  1.  0.  0.  1.]\n",
      "Permutation [1 0 3 2 4] ->  [ 0.  1.  0.  1.  0.]\n",
      "Permutation [1 0 3 4 2] ->  [ 0.  1.  0.  1.  1.]\n",
      "Permutation [1 0 4 2 3] ->  [ 0.  1.  0.  1.  1.]\n",
      "Permutation [1 0 4 3 2] ->  [ 0.  1.  0.  2.  1.]\n",
      "Permutation [1 2 0 3 4] ->  [ 0.  1.  1.  0.  0.]\n",
      "Permutation [1 2 0 4 3] ->  [ 0.  1.  1.  0.  1.]\n",
      "Permutation [1 2 3 0 4] ->  [ 0.  1.  1.  1.  0.]\n",
      "Permutation [1 2 3 4 0] ->  [ 0.  1.  1.  1.  1.]\n",
      "Permutation [1 2 4 0 3] ->  [ 0.  1.  1.  1.  1.]\n",
      "Permutation [1 2 4 3 0] ->  [ 0.  1.  1.  2.  1.]\n",
      "Permutation [1 3 0 2 4] ->  [ 0.  1.  1.  1.  0.]\n",
      "Permutation [1 3 0 4 2] ->  [ 0.  1.  1.  1.  1.]\n",
      "Permutation [1 3 2 0 4] ->  [ 0.  1.  2.  1.  0.]\n",
      "Permutation [1 3 2 4 0] ->  [ 0.  1.  2.  1.  1.]\n",
      "Permutation [1 3 4 0 2] ->  [ 0.  1.  1.  2.  1.]\n",
      "Permutation [1 3 4 2 0] ->  [ 0.  1.  2.  2.  1.]\n",
      "Permutation [1 4 0 2 3] ->  [ 0.  1.  1.  1.  1.]\n",
      "Permutation [1 4 0 3 2] ->  [ 0.  1.  1.  2.  1.]\n",
      "Permutation [1 4 2 0 3] ->  [ 0.  1.  2.  1.  1.]\n",
      "Permutation [1 4 2 3 0] ->  [ 0.  1.  2.  2.  1.]\n",
      "Permutation [1 4 3 0 2] ->  [ 0.  1.  2.  2.  1.]\n",
      "Permutation [1 4 3 2 0] ->  [ 0.  1.  3.  2.  1.]\n",
      "Permutation [2 0 1 3 4] ->  [ 0.  1.  1.  0.  0.]\n",
      "Permutation [2 0 1 4 3] ->  [ 0.  1.  1.  0.  1.]\n",
      "Permutation [2 0 3 1 4] ->  [ 0.  1.  1.  1.  0.]\n",
      "Permutation [2 0 3 4 1] ->  [ 0.  1.  1.  1.  1.]\n",
      "Permutation [2 0 4 1 3] ->  [ 0.  1.  1.  1.  1.]\n",
      "Permutation [2 0 4 3 1] ->  [ 0.  1.  1.  2.  1.]\n",
      "Permutation [2 1 0 3 4] ->  [ 0.  2.  1.  0.  0.]\n",
      "Permutation [2 1 0 4 3] ->  [ 0.  2.  1.  0.  1.]\n",
      "Permutation [2 1 3 0 4] ->  [ 0.  2.  1.  1.  0.]\n",
      "Permutation [2 1 3 4 0] ->  [ 0.  2.  1.  1.  1.]\n",
      "Permutation [2 1 4 0 3] ->  [ 0.  2.  1.  1.  1.]\n",
      "Permutation [2 1 4 3 0] ->  [ 0.  2.  1.  2.  1.]\n",
      "Permutation [2 3 0 1 4] ->  [ 0.  1.  2.  1.  0.]\n",
      "Permutation [2 3 0 4 1] ->  [ 0.  1.  2.  1.  1.]\n",
      "Permutation [2 3 1 0 4] ->  [ 0.  2.  2.  1.  0.]\n",
      "Permutation [2 3 1 4 0] ->  [ 0.  2.  2.  1.  1.]\n",
      "Permutation [2 3 4 0 1] ->  [ 0.  1.  2.  2.  1.]\n",
      "Permutation [2 3 4 1 0] ->  [ 0.  2.  2.  2.  1.]\n",
      "Permutation [2 4 0 1 3] ->  [ 0.  1.  2.  1.  1.]\n",
      "Permutation [2 4 0 3 1] ->  [ 0.  1.  2.  2.  1.]\n",
      "Permutation [2 4 1 0 3] ->  [ 0.  2.  2.  1.  1.]\n",
      "Permutation [2 4 1 3 0] ->  [ 0.  2.  2.  2.  1.]\n",
      "Permutation [2 4 3 0 1] ->  [ 0.  1.  3.  2.  1.]\n",
      "Permutation [2 4 3 1 0] ->  [ 0.  2.  3.  2.  1.]\n",
      "Permutation [3 0 1 2 4] ->  [ 0.  1.  1.  1.  0.]\n",
      "Permutation [3 0 1 4 2] ->  [ 0.  1.  1.  1.  1.]\n",
      "Permutation [3 0 2 1 4] ->  [ 0.  1.  2.  1.  0.]\n",
      "Permutation [3 0 2 4 1] ->  [ 0.  1.  2.  1.  1.]\n",
      "Permutation [3 0 4 1 2] ->  [ 0.  1.  1.  2.  1.]\n",
      "Permutation [3 0 4 2 1] ->  [ 0.  1.  2.  2.  1.]\n",
      "Permutation [3 1 0 2 4] ->  [ 0.  2.  1.  1.  0.]\n",
      "Permutation [3 1 0 4 2] ->  [ 0.  2.  1.  1.  1.]\n",
      "Permutation [3 1 2 0 4] ->  [ 0.  2.  2.  1.  0.]\n",
      "Permutation [3 1 2 4 0] ->  [ 0.  2.  2.  1.  1.]\n",
      "Permutation [3 1 4 0 2] ->  [ 0.  2.  1.  2.  1.]\n",
      "Permutation [3 1 4 2 0] ->  [ 0.  2.  2.  2.  1.]\n",
      "Permutation [3 2 0 1 4] ->  [ 0.  2.  2.  1.  0.]\n",
      "Permutation [3 2 0 4 1] ->  [ 0.  2.  2.  1.  1.]\n",
      "Permutation [3 2 1 0 4] ->  [ 0.  3.  2.  1.  0.]\n",
      "Permutation [3 2 1 4 0] ->  [ 0.  3.  2.  1.  1.]\n",
      "Permutation [3 2 4 0 1] ->  [ 0.  2.  2.  2.  1.]\n",
      "Permutation [3 2 4 1 0] ->  [ 0.  3.  2.  2.  1.]\n",
      "Permutation [3 4 0 1 2] ->  [ 0.  1.  2.  2.  1.]\n",
      "Permutation [3 4 0 2 1] ->  [ 0.  1.  3.  2.  1.]\n",
      "Permutation [3 4 1 0 2] ->  [ 0.  2.  2.  2.  1.]\n",
      "Permutation [3 4 1 2 0] ->  [ 0.  2.  3.  2.  1.]\n",
      "Permutation [3 4 2 0 1] ->  [ 0.  2.  3.  2.  1.]\n",
      "Permutation [3 4 2 1 0] ->  [ 0.  3.  3.  2.  1.]\n",
      "Permutation [4 0 1 2 3] ->  [ 0.  1.  1.  1.  1.]\n",
      "Permutation [4 0 1 3 2] ->  [ 0.  1.  1.  2.  1.]\n",
      "Permutation [4 0 2 1 3] ->  [ 0.  1.  2.  1.  1.]\n",
      "Permutation [4 0 2 3 1] ->  [ 0.  1.  2.  2.  1.]\n",
      "Permutation [4 0 3 1 2] ->  [ 0.  1.  2.  2.  1.]\n",
      "Permutation [4 0 3 2 1] ->  [ 0.  1.  3.  2.  1.]\n",
      "Permutation [4 1 0 2 3] ->  [ 0.  2.  1.  1.  1.]\n",
      "Permutation [4 1 0 3 2] ->  [ 0.  2.  1.  2.  1.]\n",
      "Permutation [4 1 2 0 3] ->  [ 0.  2.  2.  1.  1.]\n",
      "Permutation [4 1 2 3 0] ->  [ 0.  2.  2.  2.  1.]\n",
      "Permutation [4 1 3 0 2] ->  [ 0.  2.  2.  2.  1.]\n",
      "Permutation [4 1 3 2 0] ->  [ 0.  2.  3.  2.  1.]\n",
      "Permutation [4 2 0 1 3] ->  [ 0.  2.  2.  1.  1.]\n",
      "Permutation [4 2 0 3 1] ->  [ 0.  2.  2.  2.  1.]\n",
      "Permutation [4 2 1 0 3] ->  [ 0.  3.  2.  1.  1.]\n",
      "Permutation [4 2 1 3 0] ->  [ 0.  3.  2.  2.  1.]\n",
      "Permutation [4 2 3 0 1] ->  [ 0.  2.  3.  2.  1.]\n",
      "Permutation [4 2 3 1 0] ->  [ 0.  3.  3.  2.  1.]\n",
      "Permutation [4 3 0 1 2] ->  [ 0.  2.  2.  2.  1.]\n",
      "Permutation [4 3 0 2 1] ->  [ 0.  2.  3.  2.  1.]\n",
      "Permutation [4 3 1 0 2] ->  [ 0.  3.  2.  2.  1.]\n",
      "Permutation [4 3 1 2 0] ->  [ 0.  3.  3.  2.  1.]\n",
      "Permutation [4 3 2 0 1] ->  [ 0.  3.  3.  2.  1.]\n",
      "Permutation [4 3 2 1 0] ->  [ 0.  4.  3.  2.  1.]\n"
     ]
    }
   ],
   "source": [
    "t_norm = np.empty(n_perm)\n",
    "for i in range(n_perm):\n",
    "    print (\"Permutation \"+ str(perm[i]) +\" -> \",t_loop[i])"
   ]
  },
  {
   "cell_type": "markdown",
   "metadata": {},
   "source": [
    "## Samples"
   ]
  },
  {
   "cell_type": "markdown",
   "metadata": {},
   "source": [
    "### Recursive Permutation Function - No itertools"
   ]
  },
  {
   "cell_type": "markdown",
   "metadata": {},
   "source": [
    "Using calc(1,n=qt)"
   ]
  },
  {
   "cell_type": "code",
   "execution_count": 46,
   "metadata": {},
   "outputs": [
    {
     "data": {
      "image/png": "[encoded data removed]",
      "text/plain": [
       "<matplotlib.figure.Figure at 0x7ff5e3778748>"
      ]
     },
     "metadata": {},
     "output_type": "display_data"
    },
    {
     "name": "stdout",
     "output_type": "stream",
     "text": [
      "\n",
      "Average Steps: 64.8166666667 - Min Steps: 16.0 - Max Steps: 94.0\n",
      "Probabilities: \n",
      "P(16) = 0.00833333333333\n",
      "P(34) = 0.0333333333333\n",
      "P(38) = 0.05\n",
      "P(42) = 0.0333333333333\n",
      "P(46) = 0.00833333333333\n",
      "P(49) = 0.025\n",
      "P(53) = 0.075\n",
      "P(57) = 0.1\n",
      "P(61) = 0.0916666666667\n",
      "P(65) = 0.0833333333333\n",
      "P(69) = 0.0916666666667\n",
      "P(70) = 0.00833333333333\n",
      "P(73) = 0.0916666666667\n",
      "P(74) = 0.025\n",
      "P(77) = 0.0666666666667\n",
      "P(78) = 0.0416666666667\n",
      "P(81) = 0.0333333333333\n",
      "P(82) = 0.05\n",
      "P(85) = 0.00833333333333\n",
      "P(86) = 0.0416666666667\n",
      "P(90) = 0.025\n",
      "P(94) = 0.00833333333333\n"
     ]
    },
    {
     "data": {
      "image/png": "[encoded data removed]",
      "text/plain": [
       "<matplotlib.figure.Figure at 0x7ff5e3778c50>"
      ]
     },
     "metadata": {},
     "output_type": "display_data"
    },
    {
     "name": "stdout",
     "output_type": "stream",
     "text": [
      "\n",
      "Average Comparisons: 9.25833333333 - Min Comparisons: 4.0 - Max Comparisons: 10.0\n",
      "Probabilities for Comparisons: \n",
      "P(4) = 0.00833333333333\n",
      "P(7) = 0.125\n",
      "P(9) = 0.316666666667\n",
      "P(10) = 0.55\n"
     ]
    },
    {
     "data": {
      "image/png": "[encoded data removed]",
      "text/plain": [
       "<matplotlib.figure.Figure at 0x7ff5e3ced518>"
      ]
     },
     "metadata": {},
     "output_type": "display_data"
    },
    {
     "name": "stdout",
     "output_type": "stream",
     "text": [
      "\n",
      "Average Swaps: 5.0 - Min Swaps: 0.0 - Max Swaps: 10.0\n",
      "Probabilities for Swaps: \n",
      "P(0) = 0.00833333333333\n",
      "P(1) = 0.0333333333333\n",
      "P(2) = 0.075\n",
      "P(3) = 0.125\n",
      "P(4) = 0.166666666667\n",
      "P(5) = 0.183333333333\n",
      "P(6) = 0.166666666667\n",
      "P(7) = 0.125\n",
      "P(8) = 0.075\n",
      "P(9) = 0.0333333333333\n",
      "P(10) = 0.00833333333333\n"
     ]
    }
   ],
   "source": [
    "#Call the function\n",
    "qt=5\n",
    "pasos,comparaciones,sw,t_loop,perm,n_perm = calc(1,n=qt)\n",
    "step_hist(pasos,n_perm,qt)\n",
    "comp_hist(comparaciones,n_perm,qt)\n",
    "swap_hist(sw,n_perm,qt)"
   ]
  },
  {
   "cell_type": "markdown",
   "metadata": {},
   "source": [
    "### Random Permutations"
   ]
  },
  {
   "cell_type": "markdown",
   "metadata": {},
   "source": [
    "Here we test the same, but instead of using all permutations, we decide to take $m$ random permutations of $n$ numbers"
   ]
  },
  {
   "cell_type": "code",
   "execution_count": 47,
   "metadata": {},
   "outputs": [
    {
     "data": {
      "image/png": "[encoded data removed]",
      "text/plain": [
       "<matplotlib.figure.Figure at 0x7ff5e37787b8>"
      ]
     },
     "metadata": {},
     "output_type": "display_data"
    },
    {
     "name": "stdout",
     "output_type": "stream",
     "text": [
      "\n",
      "Average Steps: 253.697 - Min Steps: 126.0 - Max Steps: 339.0\n",
      "Probabilities: \n",
      "P(126) = 0.002\n",
      "P(130) = 0.001\n",
      "P(145) = 0.002\n",
      "P(149) = 0.004\n",
      "P(153) = 0.001\n",
      "P(157) = 0.002\n",
      "P(161) = 0.002\n",
      "P(165) = 0.004\n",
      "P(169) = 0.002\n",
      "P(173) = 0.001\n",
      "P(177) = 0.008\n",
      "P(181) = 0.005\n",
      "P(182) = 0.001\n",
      "P(185) = 0.002\n",
      "P(186) = 0.001\n",
      "P(189) = 0.003\n",
      "P(190) = 0.001\n",
      "P(193) = 0.011\n",
      "P(194) = 0.007\n",
      "P(196) = 0.001\n",
      "P(197) = 0.005\n",
      "P(198) = 0.003\n",
      "P(201) = 0.004\n",
      "P(202) = 0.007\n",
      "P(205) = 0.004\n",
      "P(206) = 0.01\n",
      "P(208) = 0.003\n",
      "P(209) = 0.006\n",
      "P(210) = 0.009\n",
      "P(212) = 0.005\n",
      "P(213) = 0.003\n",
      "P(214) = 0.011\n",
      "P(215) = 0.001\n",
      "P(216) = 0.006\n",
      "P(217) = 0.003\n",
      "P(218) = 0.014\n",
      "P(220) = 0.005\n",
      "P(222) = 0.011\n",
      "P(224) = 0.009\n",
      "P(226) = 0.016\n",
      "P(227) = 0.003\n",
      "P(228) = 0.011\n",
      "P(229) = 0.001\n",
      "P(230) = 0.014\n",
      "P(231) = 0.006\n",
      "P(232) = 0.021\n",
      "P(233) = 0.001\n",
      "P(234) = 0.022\n",
      "P(235) = 0.003\n",
      "P(236) = 0.021\n",
      "P(238) = 0.008\n",
      "P(239) = 0.009\n",
      "P(240) = 0.016\n",
      "P(242) = 0.011\n",
      "P(243) = 0.011\n",
      "P(244) = 0.014\n",
      "P(246) = 0.003\n",
      "P(247) = 0.02\n",
      "P(248) = 0.016\n",
      "P(250) = 0.003\n",
      "P(251) = 0.019\n",
      "P(252) = 0.021\n",
      "P(254) = 0.001\n",
      "P(255) = 0.026\n",
      "P(256) = 0.024\n",
      "P(258) = 0.002\n",
      "P(259) = 0.038\n",
      "P(260) = 0.013\n",
      "P(263) = 0.033\n",
      "P(264) = 0.02\n",
      "P(267) = 0.035\n",
      "P(268) = 0.012\n",
      "P(271) = 0.04\n",
      "P(272) = 0.011\n",
      "P(275) = 0.031\n",
      "P(276) = 0.008\n",
      "P(279) = 0.035\n",
      "P(280) = 0.014\n",
      "P(283) = 0.024\n",
      "P(284) = 0.005\n",
      "P(287) = 0.025\n",
      "P(288) = 0.005\n",
      "P(291) = 0.017\n",
      "P(292) = 0.01\n",
      "P(295) = 0.02\n",
      "P(296) = 0.006\n",
      "P(299) = 0.021\n",
      "P(300) = 0.009\n",
      "P(303) = 0.012\n",
      "P(304) = 0.009\n",
      "P(307) = 0.012\n",
      "P(308) = 0.007\n",
      "P(311) = 0.004\n",
      "P(312) = 0.002\n",
      "P(315) = 0.006\n",
      "P(316) = 0.005\n",
      "P(319) = 0.001\n",
      "P(320) = 0.001\n",
      "P(324) = 0.002\n",
      "P(328) = 0.002\n",
      "P(332) = 0.001\n",
      "P(339) = 0.001\n"
     ]
    },
    {
     "data": {
      "image/png": "[encoded data removed]",
      "text/plain": [
       "<matplotlib.figure.Figure at 0x7ff5e37780b8>"
      ]
     },
     "metadata": {},
     "output_type": "display_data"
    },
    {
     "name": "stdout",
     "output_type": "stream",
     "text": [
      "\n",
      "Average Comparisons: 42.222 - Min Comparisons: 24.0 - Max Comparisons: 45.0\n",
      "Probabilities for Comparisons: \n",
      "P(24) = 0.003\n",
      "P(30) = 0.019\n",
      "P(35) = 0.055\n",
      "P(39) = 0.155\n",
      "P(42) = 0.227\n",
      "P(44) = 0.269\n",
      "P(45) = 0.272\n"
     ]
    },
    {
     "data": {
      "image/png": "[encoded data removed]",
      "text/plain": [
       "<matplotlib.figure.Figure at 0x7ff5e3abd828>"
      ]
     },
     "metadata": {},
     "output_type": "display_data"
    },
    {
     "name": "stdout",
     "output_type": "stream",
     "text": [
      "\n",
      "Average Swaps: 22.549 - Min Swaps: 9.0 - Max Swaps: 40.0\n",
      "Probabilities for Swaps: \n",
      "P(9) = 0.004\n",
      "P(10) = 0.008\n",
      "P(11) = 0.005\n",
      "P(12) = 0.018\n",
      "P(13) = 0.014\n",
      "P(14) = 0.023\n",
      "P(15) = 0.026\n",
      "P(16) = 0.036\n",
      "P(17) = 0.039\n",
      "P(18) = 0.053\n",
      "P(19) = 0.061\n",
      "P(20) = 0.065\n",
      "P(21) = 0.067\n",
      "P(22) = 0.078\n",
      "P(23) = 0.069\n",
      "P(24) = 0.084\n",
      "P(25) = 0.057\n",
      "P(26) = 0.055\n",
      "P(27) = 0.056\n",
      "P(28) = 0.04\n",
      "P(29) = 0.038\n",
      "P(30) = 0.032\n",
      "P(31) = 0.024\n",
      "P(32) = 0.021\n",
      "P(33) = 0.011\n",
      "P(34) = 0.008\n",
      "P(35) = 0.003\n",
      "P(36) = 0.003\n",
      "P(37) = 0.001\n",
      "P(40) = 0.001\n"
     ]
    }
   ],
   "source": [
    "#Call the function\n",
    "qt,rand_amount = 10,1000\n",
    "pasos,comparaciones,sw,t_loop,perm,n_perm = calc(2,n=qt,m=rand_amount)\n",
    "\n",
    "step_hist(pasos,n_perm,qt)\n",
    "comp_hist(comparaciones,n_perm,qt)\n",
    "swap_hist(sw,n_perm,qt)"
   ]
  },
  {
   "cell_type": "code",
   "execution_count": null,
   "metadata": {
    "collapsed": true
   },
   "outputs": [],
   "source": []
  }
 ],
 "metadata": {
  "kernelspec": {
   "display_name": "Python 3",
   "language": "python",
   "name": "python3"
  },
  "language_info": {
   "codemirror_mode": {
    "name": "ipython",
    "version": 3
   },
   "file_extension": ".py",
   "mimetype": "text/x-python",
   "name": "python",
   "nbconvert_exporter": "python",
   "pygments_lexer": "ipython3",
   "version": "3.6.3"
  }
 },
 "nbformat": 4,
 "nbformat_minor": 2
}
